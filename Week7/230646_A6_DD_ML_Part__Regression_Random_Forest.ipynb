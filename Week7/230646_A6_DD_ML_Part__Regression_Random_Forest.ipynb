{
  "nbformat": 4,
  "nbformat_minor": 0,
  "metadata": {
    "kernelspec": {
      "display_name": "Python 3",
      "language": "python",
      "name": "python3"
    },
    "language_info": {
      "codemirror_mode": {
        "name": "ipython",
        "version": 3
      },
      "file_extension": ".py",
      "mimetype": "text/x-python",
      "name": "python",
      "nbconvert_exporter": "python",
      "pygments_lexer": "ipython3",
      "version": "3.7.6"
    },
    "colab": {
      "provenance": []
    }
  },
  "cells": [
    {
      "cell_type": "markdown",
      "metadata": {
        "id": "7AAfh_j7hSwQ"
      },
      "source": [
        "# **Drug Discovery [Part 4] Regression Models with Random Forest**\n",
        "\n",
        "In **Part 4**, we will be building a regression model of acetylcholinesterase inhibitors using the random forest algorithm.\n",
        "This is the same model as used in class, this is to prove that IWSSR does in fact improve the r2 score.\n",
        "\n",
        "In the class while using the coronavirus dataset we achieved an r2 score of 0.44 without using IWSSR.\n",
        "In this same notebook while using the H3N1 dataset we achieved an r2 score of 0.53 - already a significant improvement.\n",
        "\n",
        "---"
      ]
    },
    {
      "cell_type": "markdown",
      "metadata": {
        "id": "jw7MqTMphSwR"
      },
      "source": [
        "## **1. Import libraries**"
      ]
    },
    {
      "cell_type": "code",
      "metadata": {
        "id": "D3rFTNAIhSwS"
      },
      "source": [
        "import pandas as pd\n",
        "import seaborn as sns\n",
        "from sklearn.model_selection import train_test_split\n",
        "from sklearn.ensemble import RandomForestRegressor"
      ],
      "execution_count": 1,
      "outputs": []
    },
    {
      "cell_type": "markdown",
      "metadata": {
        "id": "0GvT3PArhSwX"
      },
      "source": [
        "## **2. Load the data set**"
      ]
    },
    {
      "cell_type": "code",
      "metadata": {
        "id": "cSgppzqPiR0G"
      },
      "source": [
        "df = pd.read_csv('/content/H3N1_Descriptor_IWSSR_Scaled.csv')\n",
        "df = df.drop('Unnamed: 0', axis=1)"
      ],
      "execution_count": 4,
      "outputs": []
    },
    {
      "cell_type": "markdown",
      "metadata": {
        "id": "kuiiC0xthSwb"
      },
      "source": [
        "## **3. Input features**\n",
        "The ***Coronavirus*** data set contains 881 input features and 1 output variable (pIC50 values)."
      ]
    },
    {
      "cell_type": "markdown",
      "metadata": {
        "id": "iCeQQn0uhSwb"
      },
      "source": [
        "### **3.1. Input features**"
      ]
    },
    {
      "cell_type": "code",
      "metadata": {
        "scrolled": true,
        "id": "li32nAPohSwc",
        "colab": {
          "base_uri": "https://localhost:8080/",
          "height": 443
        },
        "outputId": "bf8bfff5-3dc9-4ee6-f44e-78acfd628b4f"
      },
      "source": [
        "X = df.drop('pIC50', axis=1)\n",
        "X"
      ],
      "execution_count": 5,
      "outputs": [
        {
          "output_type": "execute_result",
          "data": {
            "text/plain": [
              "          MW      LogP  NumHDonors  PubchemFP2  PubchemFP3  PubchemFP6  \\\n",
              "0  -0.262890 -1.911570    2.545291    0.532524   -0.459639    -0.29767   \n",
              "1  -0.288683 -0.643764    1.563699    0.532524   -0.459639    -0.29767   \n",
              "2  -0.845597 -1.703369    0.582107   -1.877849   -0.459639    -0.29767   \n",
              "3  -0.580063 -0.294631    0.091311    0.532524   -0.459639    -0.29767   \n",
              "4  -0.394522 -0.118095   -0.399485    0.532524   -0.459639    -0.29767   \n",
              "..       ...       ...         ...         ...         ...         ...   \n",
              "81  0.062234  0.686329   -0.890281    0.532524   -0.459639    -0.29767   \n",
              "82 -0.348286  0.208965   -0.890281    0.532524   -0.459639    -0.29767   \n",
              "83  1.592832  1.614519    1.563699    0.532524   -0.459639    -0.29767   \n",
              "84 -0.394522 -0.118095   -0.399485    0.532524   -0.459639    -0.29767   \n",
              "85  0.671046  1.323899    1.072903    0.532524    2.175623    -0.29767   \n",
              "\n",
              "    PubchemFP11  PubchemFP12  PubchemFP13  PubchemFP14  ...  PubchemFP800  \\\n",
              "0      0.220863    -1.331989    -0.220863     0.622171  ...     -0.362738   \n",
              "1      0.220863    -1.331989    -0.220863     0.622171  ...     -0.362738   \n",
              "2      0.220863    -1.331989    -0.220863     0.622171  ...     -0.362738   \n",
              "3      0.220863    -1.331989    -0.220863     0.622171  ...      2.756810   \n",
              "4      0.220863     0.750757    -0.220863     0.622171  ...      2.756810   \n",
              "..          ...          ...          ...          ...  ...           ...   \n",
              "81     0.220863     0.750757    -0.220863     0.622171  ...     -0.362738   \n",
              "82     0.220863     0.750757    -0.220863     0.622171  ...     -0.362738   \n",
              "83     0.220863     0.750757    -0.220863     0.622171  ...      2.756810   \n",
              "84     0.220863     0.750757    -0.220863     0.622171  ...     -0.362738   \n",
              "85     0.220863     0.750757     4.527693     0.622171  ...     -0.362738   \n",
              "\n",
              "    PubchemFP803  PubchemFP818  PubchemFP819  PubchemFP821  PubchemFP824  \\\n",
              "0      -0.220863     -0.532524     -0.478091     -0.248452     -0.220863   \n",
              "1      -0.220863     -0.532524     -0.478091     -0.248452     -0.220863   \n",
              "2      -0.220863     -0.532524     -0.478091     -0.248452     -0.220863   \n",
              "3      -0.220863     -0.532524     -0.478091     -0.248452     -0.220863   \n",
              "4      -0.220863     -0.532524     -0.478091     -0.248452     -0.220863   \n",
              "..           ...           ...           ...           ...           ...   \n",
              "81     -0.220863     -0.532524     -0.478091     -0.248452     -0.220863   \n",
              "82     -0.220863     -0.532524     -0.478091     -0.248452     -0.220863   \n",
              "83     -0.220863     -0.532524     -0.478091     -0.248452     -0.220863   \n",
              "84      4.527693     -0.532524      2.091650      4.024922     -0.220863   \n",
              "85     -0.220863      1.877849      2.091650     -0.248452     -0.220863   \n",
              "\n",
              "    PubchemFP839  PubchemFP842  PubchemFP860  PubchemFP863  \n",
              "0      -0.586302     -0.421998     -0.848528     -0.220863  \n",
              "1       1.705606      2.369680     -0.848528      4.527693  \n",
              "2      -0.586302     -0.421998     -0.848528     -0.220863  \n",
              "3      -0.586302     -0.421998     -0.848528     -0.220863  \n",
              "4      -0.586302     -0.421998     -0.848528     -0.220863  \n",
              "..           ...           ...           ...           ...  \n",
              "81     -0.586302      2.369680      1.178511     -0.220863  \n",
              "82     -0.586302      2.369680      1.178511     -0.220863  \n",
              "83     -0.586302     -0.421998     -0.848528     -0.220863  \n",
              "84     -0.586302     -0.421998     -0.848528     -0.220863  \n",
              "85     -0.586302     -0.421998     -0.848528     -0.220863  \n",
              "\n",
              "[86 rows x 305 columns]"
            ],
            "text/html": [
              "\n",
              "  <div id=\"df-44f161a9-eeb0-44e8-aefc-f68833324746\" class=\"colab-df-container\">\n",
              "    <div>\n",
              "<style scoped>\n",
              "    .dataframe tbody tr th:only-of-type {\n",
              "        vertical-align: middle;\n",
              "    }\n",
              "\n",
              "    .dataframe tbody tr th {\n",
              "        vertical-align: top;\n",
              "    }\n",
              "\n",
              "    .dataframe thead th {\n",
              "        text-align: right;\n",
              "    }\n",
              "</style>\n",
              "<table border=\"1\" class=\"dataframe\">\n",
              "  <thead>\n",
              "    <tr style=\"text-align: right;\">\n",
              "      <th></th>\n",
              "      <th>MW</th>\n",
              "      <th>LogP</th>\n",
              "      <th>NumHDonors</th>\n",
              "      <th>PubchemFP2</th>\n",
              "      <th>PubchemFP3</th>\n",
              "      <th>PubchemFP6</th>\n",
              "      <th>PubchemFP11</th>\n",
              "      <th>PubchemFP12</th>\n",
              "      <th>PubchemFP13</th>\n",
              "      <th>PubchemFP14</th>\n",
              "      <th>...</th>\n",
              "      <th>PubchemFP800</th>\n",
              "      <th>PubchemFP803</th>\n",
              "      <th>PubchemFP818</th>\n",
              "      <th>PubchemFP819</th>\n",
              "      <th>PubchemFP821</th>\n",
              "      <th>PubchemFP824</th>\n",
              "      <th>PubchemFP839</th>\n",
              "      <th>PubchemFP842</th>\n",
              "      <th>PubchemFP860</th>\n",
              "      <th>PubchemFP863</th>\n",
              "    </tr>\n",
              "  </thead>\n",
              "  <tbody>\n",
              "    <tr>\n",
              "      <th>0</th>\n",
              "      <td>-0.262890</td>\n",
              "      <td>-1.911570</td>\n",
              "      <td>2.545291</td>\n",
              "      <td>0.532524</td>\n",
              "      <td>-0.459639</td>\n",
              "      <td>-0.29767</td>\n",
              "      <td>0.220863</td>\n",
              "      <td>-1.331989</td>\n",
              "      <td>-0.220863</td>\n",
              "      <td>0.622171</td>\n",
              "      <td>...</td>\n",
              "      <td>-0.362738</td>\n",
              "      <td>-0.220863</td>\n",
              "      <td>-0.532524</td>\n",
              "      <td>-0.478091</td>\n",
              "      <td>-0.248452</td>\n",
              "      <td>-0.220863</td>\n",
              "      <td>-0.586302</td>\n",
              "      <td>-0.421998</td>\n",
              "      <td>-0.848528</td>\n",
              "      <td>-0.220863</td>\n",
              "    </tr>\n",
              "    <tr>\n",
              "      <th>1</th>\n",
              "      <td>-0.288683</td>\n",
              "      <td>-0.643764</td>\n",
              "      <td>1.563699</td>\n",
              "      <td>0.532524</td>\n",
              "      <td>-0.459639</td>\n",
              "      <td>-0.29767</td>\n",
              "      <td>0.220863</td>\n",
              "      <td>-1.331989</td>\n",
              "      <td>-0.220863</td>\n",
              "      <td>0.622171</td>\n",
              "      <td>...</td>\n",
              "      <td>-0.362738</td>\n",
              "      <td>-0.220863</td>\n",
              "      <td>-0.532524</td>\n",
              "      <td>-0.478091</td>\n",
              "      <td>-0.248452</td>\n",
              "      <td>-0.220863</td>\n",
              "      <td>1.705606</td>\n",
              "      <td>2.369680</td>\n",
              "      <td>-0.848528</td>\n",
              "      <td>4.527693</td>\n",
              "    </tr>\n",
              "    <tr>\n",
              "      <th>2</th>\n",
              "      <td>-0.845597</td>\n",
              "      <td>-1.703369</td>\n",
              "      <td>0.582107</td>\n",
              "      <td>-1.877849</td>\n",
              "      <td>-0.459639</td>\n",
              "      <td>-0.29767</td>\n",
              "      <td>0.220863</td>\n",
              "      <td>-1.331989</td>\n",
              "      <td>-0.220863</td>\n",
              "      <td>0.622171</td>\n",
              "      <td>...</td>\n",
              "      <td>-0.362738</td>\n",
              "      <td>-0.220863</td>\n",
              "      <td>-0.532524</td>\n",
              "      <td>-0.478091</td>\n",
              "      <td>-0.248452</td>\n",
              "      <td>-0.220863</td>\n",
              "      <td>-0.586302</td>\n",
              "      <td>-0.421998</td>\n",
              "      <td>-0.848528</td>\n",
              "      <td>-0.220863</td>\n",
              "    </tr>\n",
              "    <tr>\n",
              "      <th>3</th>\n",
              "      <td>-0.580063</td>\n",
              "      <td>-0.294631</td>\n",
              "      <td>0.091311</td>\n",
              "      <td>0.532524</td>\n",
              "      <td>-0.459639</td>\n",
              "      <td>-0.29767</td>\n",
              "      <td>0.220863</td>\n",
              "      <td>-1.331989</td>\n",
              "      <td>-0.220863</td>\n",
              "      <td>0.622171</td>\n",
              "      <td>...</td>\n",
              "      <td>2.756810</td>\n",
              "      <td>-0.220863</td>\n",
              "      <td>-0.532524</td>\n",
              "      <td>-0.478091</td>\n",
              "      <td>-0.248452</td>\n",
              "      <td>-0.220863</td>\n",
              "      <td>-0.586302</td>\n",
              "      <td>-0.421998</td>\n",
              "      <td>-0.848528</td>\n",
              "      <td>-0.220863</td>\n",
              "    </tr>\n",
              "    <tr>\n",
              "      <th>4</th>\n",
              "      <td>-0.394522</td>\n",
              "      <td>-0.118095</td>\n",
              "      <td>-0.399485</td>\n",
              "      <td>0.532524</td>\n",
              "      <td>-0.459639</td>\n",
              "      <td>-0.29767</td>\n",
              "      <td>0.220863</td>\n",
              "      <td>0.750757</td>\n",
              "      <td>-0.220863</td>\n",
              "      <td>0.622171</td>\n",
              "      <td>...</td>\n",
              "      <td>2.756810</td>\n",
              "      <td>-0.220863</td>\n",
              "      <td>-0.532524</td>\n",
              "      <td>-0.478091</td>\n",
              "      <td>-0.248452</td>\n",
              "      <td>-0.220863</td>\n",
              "      <td>-0.586302</td>\n",
              "      <td>-0.421998</td>\n",
              "      <td>-0.848528</td>\n",
              "      <td>-0.220863</td>\n",
              "    </tr>\n",
              "    <tr>\n",
              "      <th>...</th>\n",
              "      <td>...</td>\n",
              "      <td>...</td>\n",
              "      <td>...</td>\n",
              "      <td>...</td>\n",
              "      <td>...</td>\n",
              "      <td>...</td>\n",
              "      <td>...</td>\n",
              "      <td>...</td>\n",
              "      <td>...</td>\n",
              "      <td>...</td>\n",
              "      <td>...</td>\n",
              "      <td>...</td>\n",
              "      <td>...</td>\n",
              "      <td>...</td>\n",
              "      <td>...</td>\n",
              "      <td>...</td>\n",
              "      <td>...</td>\n",
              "      <td>...</td>\n",
              "      <td>...</td>\n",
              "      <td>...</td>\n",
              "      <td>...</td>\n",
              "    </tr>\n",
              "    <tr>\n",
              "      <th>81</th>\n",
              "      <td>0.062234</td>\n",
              "      <td>0.686329</td>\n",
              "      <td>-0.890281</td>\n",
              "      <td>0.532524</td>\n",
              "      <td>-0.459639</td>\n",
              "      <td>-0.29767</td>\n",
              "      <td>0.220863</td>\n",
              "      <td>0.750757</td>\n",
              "      <td>-0.220863</td>\n",
              "      <td>0.622171</td>\n",
              "      <td>...</td>\n",
              "      <td>-0.362738</td>\n",
              "      <td>-0.220863</td>\n",
              "      <td>-0.532524</td>\n",
              "      <td>-0.478091</td>\n",
              "      <td>-0.248452</td>\n",
              "      <td>-0.220863</td>\n",
              "      <td>-0.586302</td>\n",
              "      <td>2.369680</td>\n",
              "      <td>1.178511</td>\n",
              "      <td>-0.220863</td>\n",
              "    </tr>\n",
              "    <tr>\n",
              "      <th>82</th>\n",
              "      <td>-0.348286</td>\n",
              "      <td>0.208965</td>\n",
              "      <td>-0.890281</td>\n",
              "      <td>0.532524</td>\n",
              "      <td>-0.459639</td>\n",
              "      <td>-0.29767</td>\n",
              "      <td>0.220863</td>\n",
              "      <td>0.750757</td>\n",
              "      <td>-0.220863</td>\n",
              "      <td>0.622171</td>\n",
              "      <td>...</td>\n",
              "      <td>-0.362738</td>\n",
              "      <td>-0.220863</td>\n",
              "      <td>-0.532524</td>\n",
              "      <td>-0.478091</td>\n",
              "      <td>-0.248452</td>\n",
              "      <td>-0.220863</td>\n",
              "      <td>-0.586302</td>\n",
              "      <td>2.369680</td>\n",
              "      <td>1.178511</td>\n",
              "      <td>-0.220863</td>\n",
              "    </tr>\n",
              "    <tr>\n",
              "      <th>83</th>\n",
              "      <td>1.592832</td>\n",
              "      <td>1.614519</td>\n",
              "      <td>1.563699</td>\n",
              "      <td>0.532524</td>\n",
              "      <td>-0.459639</td>\n",
              "      <td>-0.29767</td>\n",
              "      <td>0.220863</td>\n",
              "      <td>0.750757</td>\n",
              "      <td>-0.220863</td>\n",
              "      <td>0.622171</td>\n",
              "      <td>...</td>\n",
              "      <td>2.756810</td>\n",
              "      <td>-0.220863</td>\n",
              "      <td>-0.532524</td>\n",
              "      <td>-0.478091</td>\n",
              "      <td>-0.248452</td>\n",
              "      <td>-0.220863</td>\n",
              "      <td>-0.586302</td>\n",
              "      <td>-0.421998</td>\n",
              "      <td>-0.848528</td>\n",
              "      <td>-0.220863</td>\n",
              "    </tr>\n",
              "    <tr>\n",
              "      <th>84</th>\n",
              "      <td>-0.394522</td>\n",
              "      <td>-0.118095</td>\n",
              "      <td>-0.399485</td>\n",
              "      <td>0.532524</td>\n",
              "      <td>-0.459639</td>\n",
              "      <td>-0.29767</td>\n",
              "      <td>0.220863</td>\n",
              "      <td>0.750757</td>\n",
              "      <td>-0.220863</td>\n",
              "      <td>0.622171</td>\n",
              "      <td>...</td>\n",
              "      <td>-0.362738</td>\n",
              "      <td>4.527693</td>\n",
              "      <td>-0.532524</td>\n",
              "      <td>2.091650</td>\n",
              "      <td>4.024922</td>\n",
              "      <td>-0.220863</td>\n",
              "      <td>-0.586302</td>\n",
              "      <td>-0.421998</td>\n",
              "      <td>-0.848528</td>\n",
              "      <td>-0.220863</td>\n",
              "    </tr>\n",
              "    <tr>\n",
              "      <th>85</th>\n",
              "      <td>0.671046</td>\n",
              "      <td>1.323899</td>\n",
              "      <td>1.072903</td>\n",
              "      <td>0.532524</td>\n",
              "      <td>2.175623</td>\n",
              "      <td>-0.29767</td>\n",
              "      <td>0.220863</td>\n",
              "      <td>0.750757</td>\n",
              "      <td>4.527693</td>\n",
              "      <td>0.622171</td>\n",
              "      <td>...</td>\n",
              "      <td>-0.362738</td>\n",
              "      <td>-0.220863</td>\n",
              "      <td>1.877849</td>\n",
              "      <td>2.091650</td>\n",
              "      <td>-0.248452</td>\n",
              "      <td>-0.220863</td>\n",
              "      <td>-0.586302</td>\n",
              "      <td>-0.421998</td>\n",
              "      <td>-0.848528</td>\n",
              "      <td>-0.220863</td>\n",
              "    </tr>\n",
              "  </tbody>\n",
              "</table>\n",
              "<p>86 rows × 305 columns</p>\n",
              "</div>\n",
              "    <div class=\"colab-df-buttons\">\n",
              "\n",
              "  <div class=\"colab-df-container\">\n",
              "    <button class=\"colab-df-convert\" onclick=\"convertToInteractive('df-44f161a9-eeb0-44e8-aefc-f68833324746')\"\n",
              "            title=\"Convert this dataframe to an interactive table.\"\n",
              "            style=\"display:none;\">\n",
              "\n",
              "  <svg xmlns=\"http://www.w3.org/2000/svg\" height=\"24px\" viewBox=\"0 -960 960 960\">\n",
              "    <path d=\"M120-120v-720h720v720H120Zm60-500h600v-160H180v160Zm220 220h160v-160H400v160Zm0 220h160v-160H400v160ZM180-400h160v-160H180v160Zm440 0h160v-160H620v160ZM180-180h160v-160H180v160Zm440 0h160v-160H620v160Z\"/>\n",
              "  </svg>\n",
              "    </button>\n",
              "\n",
              "  <style>\n",
              "    .colab-df-container {\n",
              "      display:flex;\n",
              "      gap: 12px;\n",
              "    }\n",
              "\n",
              "    .colab-df-convert {\n",
              "      background-color: #E8F0FE;\n",
              "      border: none;\n",
              "      border-radius: 50%;\n",
              "      cursor: pointer;\n",
              "      display: none;\n",
              "      fill: #1967D2;\n",
              "      height: 32px;\n",
              "      padding: 0 0 0 0;\n",
              "      width: 32px;\n",
              "    }\n",
              "\n",
              "    .colab-df-convert:hover {\n",
              "      background-color: #E2EBFA;\n",
              "      box-shadow: 0px 1px 2px rgba(60, 64, 67, 0.3), 0px 1px 3px 1px rgba(60, 64, 67, 0.15);\n",
              "      fill: #174EA6;\n",
              "    }\n",
              "\n",
              "    .colab-df-buttons div {\n",
              "      margin-bottom: 4px;\n",
              "    }\n",
              "\n",
              "    [theme=dark] .colab-df-convert {\n",
              "      background-color: #3B4455;\n",
              "      fill: #D2E3FC;\n",
              "    }\n",
              "\n",
              "    [theme=dark] .colab-df-convert:hover {\n",
              "      background-color: #434B5C;\n",
              "      box-shadow: 0px 1px 3px 1px rgba(0, 0, 0, 0.15);\n",
              "      filter: drop-shadow(0px 1px 2px rgba(0, 0, 0, 0.3));\n",
              "      fill: #FFFFFF;\n",
              "    }\n",
              "  </style>\n",
              "\n",
              "    <script>\n",
              "      const buttonEl =\n",
              "        document.querySelector('#df-44f161a9-eeb0-44e8-aefc-f68833324746 button.colab-df-convert');\n",
              "      buttonEl.style.display =\n",
              "        google.colab.kernel.accessAllowed ? 'block' : 'none';\n",
              "\n",
              "      async function convertToInteractive(key) {\n",
              "        const element = document.querySelector('#df-44f161a9-eeb0-44e8-aefc-f68833324746');\n",
              "        const dataTable =\n",
              "          await google.colab.kernel.invokeFunction('convertToInteractive',\n",
              "                                                    [key], {});\n",
              "        if (!dataTable) return;\n",
              "\n",
              "        const docLinkHtml = 'Like what you see? Visit the ' +\n",
              "          '<a target=\"_blank\" href=https://colab.research.google.com/notebooks/data_table.ipynb>data table notebook</a>'\n",
              "          + ' to learn more about interactive tables.';\n",
              "        element.innerHTML = '';\n",
              "        dataTable['output_type'] = 'display_data';\n",
              "        await google.colab.output.renderOutput(dataTable, element);\n",
              "        const docLink = document.createElement('div');\n",
              "        docLink.innerHTML = docLinkHtml;\n",
              "        element.appendChild(docLink);\n",
              "      }\n",
              "    </script>\n",
              "  </div>\n",
              "\n",
              "\n",
              "<div id=\"df-0032686e-28d0-4531-85fd-c9758a282369\">\n",
              "  <button class=\"colab-df-quickchart\" onclick=\"quickchart('df-0032686e-28d0-4531-85fd-c9758a282369')\"\n",
              "            title=\"Suggest charts\"\n",
              "            style=\"display:none;\">\n",
              "\n",
              "<svg xmlns=\"http://www.w3.org/2000/svg\" height=\"24px\"viewBox=\"0 0 24 24\"\n",
              "     width=\"24px\">\n",
              "    <g>\n",
              "        <path d=\"M19 3H5c-1.1 0-2 .9-2 2v14c0 1.1.9 2 2 2h14c1.1 0 2-.9 2-2V5c0-1.1-.9-2-2-2zM9 17H7v-7h2v7zm4 0h-2V7h2v10zm4 0h-2v-4h2v4z\"/>\n",
              "    </g>\n",
              "</svg>\n",
              "  </button>\n",
              "\n",
              "<style>\n",
              "  .colab-df-quickchart {\n",
              "      --bg-color: #E8F0FE;\n",
              "      --fill-color: #1967D2;\n",
              "      --hover-bg-color: #E2EBFA;\n",
              "      --hover-fill-color: #174EA6;\n",
              "      --disabled-fill-color: #AAA;\n",
              "      --disabled-bg-color: #DDD;\n",
              "  }\n",
              "\n",
              "  [theme=dark] .colab-df-quickchart {\n",
              "      --bg-color: #3B4455;\n",
              "      --fill-color: #D2E3FC;\n",
              "      --hover-bg-color: #434B5C;\n",
              "      --hover-fill-color: #FFFFFF;\n",
              "      --disabled-bg-color: #3B4455;\n",
              "      --disabled-fill-color: #666;\n",
              "  }\n",
              "\n",
              "  .colab-df-quickchart {\n",
              "    background-color: var(--bg-color);\n",
              "    border: none;\n",
              "    border-radius: 50%;\n",
              "    cursor: pointer;\n",
              "    display: none;\n",
              "    fill: var(--fill-color);\n",
              "    height: 32px;\n",
              "    padding: 0;\n",
              "    width: 32px;\n",
              "  }\n",
              "\n",
              "  .colab-df-quickchart:hover {\n",
              "    background-color: var(--hover-bg-color);\n",
              "    box-shadow: 0 1px 2px rgba(60, 64, 67, 0.3), 0 1px 3px 1px rgba(60, 64, 67, 0.15);\n",
              "    fill: var(--button-hover-fill-color);\n",
              "  }\n",
              "\n",
              "  .colab-df-quickchart-complete:disabled,\n",
              "  .colab-df-quickchart-complete:disabled:hover {\n",
              "    background-color: var(--disabled-bg-color);\n",
              "    fill: var(--disabled-fill-color);\n",
              "    box-shadow: none;\n",
              "  }\n",
              "\n",
              "  .colab-df-spinner {\n",
              "    border: 2px solid var(--fill-color);\n",
              "    border-color: transparent;\n",
              "    border-bottom-color: var(--fill-color);\n",
              "    animation:\n",
              "      spin 1s steps(1) infinite;\n",
              "  }\n",
              "\n",
              "  @keyframes spin {\n",
              "    0% {\n",
              "      border-color: transparent;\n",
              "      border-bottom-color: var(--fill-color);\n",
              "      border-left-color: var(--fill-color);\n",
              "    }\n",
              "    20% {\n",
              "      border-color: transparent;\n",
              "      border-left-color: var(--fill-color);\n",
              "      border-top-color: var(--fill-color);\n",
              "    }\n",
              "    30% {\n",
              "      border-color: transparent;\n",
              "      border-left-color: var(--fill-color);\n",
              "      border-top-color: var(--fill-color);\n",
              "      border-right-color: var(--fill-color);\n",
              "    }\n",
              "    40% {\n",
              "      border-color: transparent;\n",
              "      border-right-color: var(--fill-color);\n",
              "      border-top-color: var(--fill-color);\n",
              "    }\n",
              "    60% {\n",
              "      border-color: transparent;\n",
              "      border-right-color: var(--fill-color);\n",
              "    }\n",
              "    80% {\n",
              "      border-color: transparent;\n",
              "      border-right-color: var(--fill-color);\n",
              "      border-bottom-color: var(--fill-color);\n",
              "    }\n",
              "    90% {\n",
              "      border-color: transparent;\n",
              "      border-bottom-color: var(--fill-color);\n",
              "    }\n",
              "  }\n",
              "</style>\n",
              "\n",
              "  <script>\n",
              "    async function quickchart(key) {\n",
              "      const quickchartButtonEl =\n",
              "        document.querySelector('#' + key + ' button');\n",
              "      quickchartButtonEl.disabled = true;  // To prevent multiple clicks.\n",
              "      quickchartButtonEl.classList.add('colab-df-spinner');\n",
              "      try {\n",
              "        const charts = await google.colab.kernel.invokeFunction(\n",
              "            'suggestCharts', [key], {});\n",
              "      } catch (error) {\n",
              "        console.error('Error during call to suggestCharts:', error);\n",
              "      }\n",
              "      quickchartButtonEl.classList.remove('colab-df-spinner');\n",
              "      quickchartButtonEl.classList.add('colab-df-quickchart-complete');\n",
              "    }\n",
              "    (() => {\n",
              "      let quickchartButtonEl =\n",
              "        document.querySelector('#df-0032686e-28d0-4531-85fd-c9758a282369 button');\n",
              "      quickchartButtonEl.style.display =\n",
              "        google.colab.kernel.accessAllowed ? 'block' : 'none';\n",
              "    })();\n",
              "  </script>\n",
              "</div>\n",
              "\n",
              "  <div id=\"id_7d3296a5-6ccc-401f-adc6-cae370f88e1c\">\n",
              "    <style>\n",
              "      .colab-df-generate {\n",
              "        background-color: #E8F0FE;\n",
              "        border: none;\n",
              "        border-radius: 50%;\n",
              "        cursor: pointer;\n",
              "        display: none;\n",
              "        fill: #1967D2;\n",
              "        height: 32px;\n",
              "        padding: 0 0 0 0;\n",
              "        width: 32px;\n",
              "      }\n",
              "\n",
              "      .colab-df-generate:hover {\n",
              "        background-color: #E2EBFA;\n",
              "        box-shadow: 0px 1px 2px rgba(60, 64, 67, 0.3), 0px 1px 3px 1px rgba(60, 64, 67, 0.15);\n",
              "        fill: #174EA6;\n",
              "      }\n",
              "\n",
              "      [theme=dark] .colab-df-generate {\n",
              "        background-color: #3B4455;\n",
              "        fill: #D2E3FC;\n",
              "      }\n",
              "\n",
              "      [theme=dark] .colab-df-generate:hover {\n",
              "        background-color: #434B5C;\n",
              "        box-shadow: 0px 1px 3px 1px rgba(0, 0, 0, 0.15);\n",
              "        filter: drop-shadow(0px 1px 2px rgba(0, 0, 0, 0.3));\n",
              "        fill: #FFFFFF;\n",
              "      }\n",
              "    </style>\n",
              "    <button class=\"colab-df-generate\" onclick=\"generateWithVariable('X')\"\n",
              "            title=\"Generate code using this dataframe.\"\n",
              "            style=\"display:none;\">\n",
              "\n",
              "  <svg xmlns=\"http://www.w3.org/2000/svg\" height=\"24px\"viewBox=\"0 0 24 24\"\n",
              "       width=\"24px\">\n",
              "    <path d=\"M7,19H8.4L18.45,9,17,7.55,7,17.6ZM5,21V16.75L18.45,3.32a2,2,0,0,1,2.83,0l1.4,1.43a1.91,1.91,0,0,1,.58,1.4,1.91,1.91,0,0,1-.58,1.4L9.25,21ZM18.45,9,17,7.55Zm-12,3A5.31,5.31,0,0,0,4.9,8.1,5.31,5.31,0,0,0,1,6.5,5.31,5.31,0,0,0,4.9,4.9,5.31,5.31,0,0,0,6.5,1,5.31,5.31,0,0,0,8.1,4.9,5.31,5.31,0,0,0,12,6.5,5.46,5.46,0,0,0,6.5,12Z\"/>\n",
              "  </svg>\n",
              "    </button>\n",
              "    <script>\n",
              "      (() => {\n",
              "      const buttonEl =\n",
              "        document.querySelector('#id_7d3296a5-6ccc-401f-adc6-cae370f88e1c button.colab-df-generate');\n",
              "      buttonEl.style.display =\n",
              "        google.colab.kernel.accessAllowed ? 'block' : 'none';\n",
              "\n",
              "      buttonEl.onclick = () => {\n",
              "        google.colab.notebook.generateWithVariable('X');\n",
              "      }\n",
              "      })();\n",
              "    </script>\n",
              "  </div>\n",
              "\n",
              "    </div>\n",
              "  </div>\n"
            ],
            "application/vnd.google.colaboratory.intrinsic+json": {
              "type": "dataframe",
              "variable_name": "X"
            }
          },
          "metadata": {},
          "execution_count": 5
        }
      ]
    },
    {
      "cell_type": "markdown",
      "metadata": {
        "id": "sGQjCQtfhSwg"
      },
      "source": [
        "### **3.2. Output features**"
      ]
    },
    {
      "cell_type": "code",
      "metadata": {
        "id": "OWylAtAVhSwh",
        "colab": {
          "base_uri": "https://localhost:8080/"
        },
        "outputId": "3e0109e3-8425-4d06-c8bc-c04e6a2b93e5"
      },
      "source": [
        "Y = df.pIC50\n",
        "Y"
      ],
      "execution_count": 6,
      "outputs": [
        {
          "output_type": "execute_result",
          "data": {
            "text/plain": [
              "0    -0.189483\n",
              "1     0.235179\n",
              "2    -1.098052\n",
              "3     1.700238\n",
              "4     0.068845\n",
              "        ...   \n",
              "81   -1.046362\n",
              "82   -1.680254\n",
              "83   -1.003172\n",
              "84   -1.530502\n",
              "85    0.873788\n",
              "Name: pIC50, Length: 86, dtype: float64"
            ]
          },
          "metadata": {},
          "execution_count": 6
        }
      ]
    },
    {
      "cell_type": "markdown",
      "metadata": {
        "id": "E-zGSqXohSwx"
      },
      "source": [
        "### **3.3. Let's examine the data dimension**"
      ]
    },
    {
      "cell_type": "code",
      "metadata": {
        "id": "nhT04XtLhSwx",
        "colab": {
          "base_uri": "https://localhost:8080/"
        },
        "outputId": "bdd2b929-7c6b-46c3-ce73-7413e0ee6c08"
      },
      "source": [
        "X.shape"
      ],
      "execution_count": 7,
      "outputs": [
        {
          "output_type": "execute_result",
          "data": {
            "text/plain": [
              "(86, 305)"
            ]
          },
          "metadata": {},
          "execution_count": 7
        }
      ]
    },
    {
      "cell_type": "code",
      "metadata": {
        "id": "uzQlK8gNhSw0",
        "colab": {
          "base_uri": "https://localhost:8080/"
        },
        "outputId": "7d1dcee7-e486-4c1f-8992-5128c1fc0b03"
      },
      "source": [
        "Y.shape"
      ],
      "execution_count": 8,
      "outputs": [
        {
          "output_type": "execute_result",
          "data": {
            "text/plain": [
              "(86,)"
            ]
          },
          "metadata": {},
          "execution_count": 8
        }
      ]
    },
    {
      "cell_type": "markdown",
      "metadata": {
        "id": "0qQCpX097qf_"
      },
      "source": [
        "### **3.4. Remove low variance features**"
      ]
    },
    {
      "cell_type": "code",
      "metadata": {
        "id": "rjHK2SoI7tXI"
      },
      "source": [
        "from sklearn.feature_selection import VarianceThreshold\n",
        "selection = VarianceThreshold(threshold=(.8 * (1 - .8)))\n",
        "X = selection.fit_transform(X)"
      ],
      "execution_count": 9,
      "outputs": []
    },
    {
      "cell_type": "code",
      "metadata": {
        "id": "nXcpQh_s8nx7",
        "colab": {
          "base_uri": "https://localhost:8080/"
        },
        "outputId": "b8f760c2-96d7-4be9-ae47-8d9bbf887be4"
      },
      "source": [
        "X.shape"
      ],
      "execution_count": 10,
      "outputs": [
        {
          "output_type": "execute_result",
          "data": {
            "text/plain": [
              "(86, 305)"
            ]
          },
          "metadata": {},
          "execution_count": 10
        }
      ]
    },
    {
      "cell_type": "markdown",
      "metadata": {
        "id": "AjhOlkOVhSxR"
      },
      "source": [
        "## **4. Data split (80/20 ratio)**"
      ]
    },
    {
      "cell_type": "code",
      "metadata": {
        "id": "M1Bmg1HWhSxR"
      },
      "source": [
        "X_train, X_test, Y_train, Y_test = train_test_split(X, Y, test_size=0.2)"
      ],
      "execution_count": 11,
      "outputs": []
    },
    {
      "cell_type": "code",
      "metadata": {
        "id": "uz1o3c1LhSxU",
        "colab": {
          "base_uri": "https://localhost:8080/"
        },
        "outputId": "d10ee104-8888-4975-c9a4-a40c5411d440"
      },
      "source": [
        "X_train.shape, Y_train.shape"
      ],
      "execution_count": 12,
      "outputs": [
        {
          "output_type": "execute_result",
          "data": {
            "text/plain": [
              "((68, 305), (68,))"
            ]
          },
          "metadata": {},
          "execution_count": 12
        }
      ]
    },
    {
      "cell_type": "code",
      "metadata": {
        "id": "4tnwDASChSxW",
        "colab": {
          "base_uri": "https://localhost:8080/"
        },
        "outputId": "5808dc8a-7f69-4d85-ba41-b55930e0e95a"
      },
      "source": [
        "X_test.shape, Y_test.shape"
      ],
      "execution_count": 13,
      "outputs": [
        {
          "output_type": "execute_result",
          "data": {
            "text/plain": [
              "((18, 305), (18,))"
            ]
          },
          "metadata": {},
          "execution_count": 13
        }
      ]
    },
    {
      "cell_type": "markdown",
      "metadata": {
        "id": "PYsE-tIAhSw3"
      },
      "source": [
        "## **5. Building a Regression Model using Random Forest**"
      ]
    },
    {
      "cell_type": "code",
      "metadata": {
        "id": "YHM3DCD5wuNe",
        "colab": {
          "base_uri": "https://localhost:8080/"
        },
        "outputId": "86c8ca9e-2f12-422f-c56f-2edca9c30f46"
      },
      "source": [
        "model = RandomForestRegressor(n_estimators=100)\n",
        "model.fit(X_train, Y_train)\n",
        "Y_pred = model.predict(X_train)\n",
        "r2 = model.score(X_test, Y_test)\n",
        "r2"
      ],
      "execution_count": 14,
      "outputs": [
        {
          "output_type": "execute_result",
          "data": {
            "text/plain": [
              "0.5337802341148591"
            ]
          },
          "metadata": {},
          "execution_count": 14
        }
      ]
    },
    {
      "cell_type": "code",
      "metadata": {
        "id": "A4Rv5wdQ1M6H"
      },
      "source": [
        "Y_pred = model.predict(X_test)"
      ],
      "execution_count": 15,
      "outputs": []
    },
    {
      "cell_type": "markdown",
      "metadata": {
        "id": "LoLgjePyUXcv"
      },
      "source": [
        "## **6. Scatter Plot of Experimental vs Predicted pIC50 Values**"
      ]
    },
    {
      "cell_type": "code",
      "metadata": {
        "id": "hfqpfjxw3IAK",
        "colab": {
          "base_uri": "https://localhost:8080/",
          "height": 474
        },
        "outputId": "cb89e54e-32b7-452b-893c-013c91a37320"
      },
      "source": [
        "import seaborn as sns\n",
        "import matplotlib.pyplot as plt\n",
        "\n",
        "sns.set(color_codes=True)\n",
        "sns.set_style(\"white\")\n",
        "\n",
        "ax = sns.regplot(x=Y_test, y=Y_pred, scatter_kws={'alpha':0.4})\n",
        "ax.set_xlabel('Experimental pIC50', fontsize='large', fontweight='bold')\n",
        "ax.set_ylabel('Predicted pIC50', fontsize='large', fontweight='bold')\n",
        "ax.figure.set_size_inches(5, 5)\n",
        "plt.show()"
      ],
      "execution_count": 16,
      "outputs": [
        {
          "output_type": "display_data",
          "data": {
            "text/plain": [
              "<Figure size 500x500 with 1 Axes>"
            ],
            "image/png": "[encoded data removed]"
          },
          "metadata": {}
        }
      ]
    }
  ]
}